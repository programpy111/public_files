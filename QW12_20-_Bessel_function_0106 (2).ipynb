{
 "cells": [
  {
   "cell_type": "code",
   "execution_count": null,
   "id": "8fd4fac5-9b0c-4855-a4cf-f6bcc99b6609",
   "metadata": {},
   "outputs": [],
   "source": [
    "import matplotlib.pyplot as plt\n",
    "import numpy as np\n",
    "import warnings\n",
    "from scipy.special import jv\n",
    "\n",
    "warnings.simplefilter('ignore')\n",
    "\n",
    "# 与えられたP_t_theta関数をそのまま使用\n",
    "# P_t_theta関数の定義\n",
    "x_range = 51\n",
    "t_range = 100\n",
    "\n",
    "def P_t_theta(y, n, omega_1, omega_2, theta):\n",
    "    result = np.zeros((x_range, int(t_range/5)))\n",
    "    for i1 in range(x_range):\n",
    "        xi = i1 - int(x_range / 2)\n",
    "        for j1 in range(t_range):\n",
    "            #m = xi - y\n",
    "            j = int(j1/5)\n",
    "            sum1 = np.sum([np.cos(np.pi / 2 * (np.abs(xi - y + 2 * m) + np.abs(m)) + m * theta) *\n",
    "                           jv(np.abs(xi - y + 2 * m), omega_1 * j) * jv(np.abs(m), omega_2 * j) for m in range(-n, n + 1)], axis=0)\n",
    "            sum2 = np.sum([np.sin(np.pi / 2 * (np.abs(xi - y + 2 * m) + np.abs(m)) + m * theta) *\n",
    "                           jv(np.abs(xi - y + 2 * m), omega_1 * j) * jv(np.abs(m), omega_2 * j) for m in range(-n, n + 1)], axis=0)\n",
    "            result[i1, j] = sum1 ** 2 + sum2 ** 2\n",
    "    return result\n",
    "\n",
    "# パラメータ設定\n",
    "y = 0  # 任意の値\n",
    "n = 100  # 任意の値\n",
    "omega_1 = 0.6  # 任意の値\n",
    "omega_2 = 0.3 # 任意の値\n",
    "theta = np.pi/3  # 任意の値\n",
    "#theta = 0  # 任意の値\n",
    "\n",
    "\n",
    "# P_t_theta関数からデータを生成\n",
    "data = P_t_theta(y, n, omega_1, omega_2, theta)\n",
    "\n",
    "# データをプロット\n",
    "plt.imshow(data, cmap='viridis', extent=[0, t_range, 0, x_range])\n",
    "plt.colorbar()  # カラーバーを表示\n",
    "plt.xlabel('i1 (横軸)')\n",
    "plt.ylabel('j (縦軸)')\n",
    "plt.title('P_t_thetaの値による色の明るさの変化')\n",
    "plt.show()\n"
   ]
  },
  {
   "cell_type": "code",
   "execution_count": null,
   "id": "3be079ab-e192-4025-9438-a619ba42a74c",
   "metadata": {},
   "outputs": [],
   "source": []
  }
 ],
 "metadata": {
  "kernelspec": {
   "display_name": "Python 3 (ipykernel)",
   "language": "python",
   "name": "python3"
  },
  "language_info": {
   "codemirror_mode": {
    "name": "ipython",
    "version": 3
   },
   "file_extension": ".py",
   "mimetype": "text/x-python",
   "name": "python",
   "nbconvert_exporter": "python",
   "pygments_lexer": "ipython3",
   "version": "3.8.2"
  }
 },
 "nbformat": 4,
 "nbformat_minor": 5
}
