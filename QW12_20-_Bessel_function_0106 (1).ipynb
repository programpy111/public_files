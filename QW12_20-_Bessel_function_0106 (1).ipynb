{
 "cells": [
  {
   "cell_type": "code",
   "execution_count": 1,
   "id": "8fd4fac5-9b0c-4855-a4cf-f6bcc99b6609",
   "metadata": {},
   "outputs": [
    {
     "name": "stderr",
     "output_type": "stream",
     "text": [
      "/Users/arxx/.local/share/virtualenvs/file002-1fN8fF5m/lib/python3.8/site-packages/IPython/core/pylabtools.py:152: UserWarning: Glyph 32294 (\\N{CJK UNIFIED IDEOGRAPH-7E26}) missing from current font.\n",
      "  fig.canvas.print_figure(bytes_io, **kw)\n",
      "/Users/arxx/.local/share/virtualenvs/file002-1fN8fF5m/lib/python3.8/site-packages/IPython/core/pylabtools.py:152: UserWarning: Glyph 36600 (\\N{CJK UNIFIED IDEOGRAPH-8EF8}) missing from current font.\n",
      "  fig.canvas.print_figure(bytes_io, **kw)\n",
      "/Users/arxx/.local/share/virtualenvs/file002-1fN8fF5m/lib/python3.8/site-packages/IPython/core/pylabtools.py:152: UserWarning: Glyph 12398 (\\N{HIRAGANA LETTER NO}) missing from current font.\n",
      "  fig.canvas.print_figure(bytes_io, **kw)\n",
      "/Users/arxx/.local/share/virtualenvs/file002-1fN8fF5m/lib/python3.8/site-packages/IPython/core/pylabtools.py:152: UserWarning: Glyph 20516 (\\N{CJK UNIFIED IDEOGRAPH-5024}) missing from current font.\n",
      "  fig.canvas.print_figure(bytes_io, **kw)\n",
      "/Users/arxx/.local/share/virtualenvs/file002-1fN8fF5m/lib/python3.8/site-packages/IPython/core/pylabtools.py:152: UserWarning: Glyph 12395 (\\N{HIRAGANA LETTER NI}) missing from current font.\n",
      "  fig.canvas.print_figure(bytes_io, **kw)\n",
      "/Users/arxx/.local/share/virtualenvs/file002-1fN8fF5m/lib/python3.8/site-packages/IPython/core/pylabtools.py:152: UserWarning: Glyph 12424 (\\N{HIRAGANA LETTER YO}) missing from current font.\n",
      "  fig.canvas.print_figure(bytes_io, **kw)\n",
      "/Users/arxx/.local/share/virtualenvs/file002-1fN8fF5m/lib/python3.8/site-packages/IPython/core/pylabtools.py:152: UserWarning: Glyph 12427 (\\N{HIRAGANA LETTER RU}) missing from current font.\n",
      "  fig.canvas.print_figure(bytes_io, **kw)\n",
      "/Users/arxx/.local/share/virtualenvs/file002-1fN8fF5m/lib/python3.8/site-packages/IPython/core/pylabtools.py:152: UserWarning: Glyph 33394 (\\N{CJK UNIFIED IDEOGRAPH-8272}) missing from current font.\n",
      "  fig.canvas.print_figure(bytes_io, **kw)\n",
      "/Users/arxx/.local/share/virtualenvs/file002-1fN8fF5m/lib/python3.8/site-packages/IPython/core/pylabtools.py:152: UserWarning: Glyph 26126 (\\N{CJK UNIFIED IDEOGRAPH-660E}) missing from current font.\n",
      "  fig.canvas.print_figure(bytes_io, **kw)\n",
      "/Users/arxx/.local/share/virtualenvs/file002-1fN8fF5m/lib/python3.8/site-packages/IPython/core/pylabtools.py:152: UserWarning: Glyph 12373 (\\N{HIRAGANA LETTER SA}) missing from current font.\n",
      "  fig.canvas.print_figure(bytes_io, **kw)\n",
      "/Users/arxx/.local/share/virtualenvs/file002-1fN8fF5m/lib/python3.8/site-packages/IPython/core/pylabtools.py:152: UserWarning: Glyph 22793 (\\N{CJK UNIFIED IDEOGRAPH-5909}) missing from current font.\n",
      "  fig.canvas.print_figure(bytes_io, **kw)\n",
      "/Users/arxx/.local/share/virtualenvs/file002-1fN8fF5m/lib/python3.8/site-packages/IPython/core/pylabtools.py:152: UserWarning: Glyph 21270 (\\N{CJK UNIFIED IDEOGRAPH-5316}) missing from current font.\n",
      "  fig.canvas.print_figure(bytes_io, **kw)\n",
      "/Users/arxx/.local/share/virtualenvs/file002-1fN8fF5m/lib/python3.8/site-packages/IPython/core/pylabtools.py:152: UserWarning: Glyph 27178 (\\N{CJK UNIFIED IDEOGRAPH-6A2A}) missing from current font.\n",
      "  fig.canvas.print_figure(bytes_io, **kw)\n"
     ]
    },
    {
     "data": {
      "image/png": "[encoded data removed]",
      "text/plain": [
       "<Figure size 640x480 with 2 Axes>"
      ]
     },
     "metadata": {},
     "output_type": "display_data"
    }
   ],
   "source": [
    "import matplotlib.pyplot as plt\n",
    "import numpy as np\n",
    "from scipy.special import jv\n",
    "\n",
    "# 与えられたP_t_theta関数をそのまま使用\n",
    "# P_t_theta関数の定義\n",
    "x_range = 51\n",
    "t_range = 100\n",
    "\n",
    "def P_t_theta(y, n, omega_1, omega_2, theta):\n",
    "    result = np.zeros((x_range, int(t_range/5)))\n",
    "    for i1 in range(x_range):\n",
    "        xi = i1 - int(x_range / 2)\n",
    "        for j1 in range(t_range):\n",
    "            #m = xi - y\n",
    "            j = int(j1/5)\n",
    "            sum1 = np.sum([np.cos(np.pi / 2 * (np.abs(xi - y + 2 * m) + np.abs(m)) + m * theta) *\n",
    "                           jv(np.abs(xi - y + 2 * m), omega_1 * j) * jv(np.abs(m), omega_2 * j) for m in range(-n, n + 1)], axis=0)\n",
    "            sum2 = np.sum([np.sin(np.pi / 2 * (np.abs(xi - y + 2 * m) + np.abs(m)) + m * theta) *\n",
    "                           jv(np.abs(xi - y + 2 * m), omega_1 * j) * jv(np.abs(m), omega_2 * j) for m in range(-n, n + 1)], axis=0)\n",
    "            result[i1, j] = sum1 ** 2 + sum2 ** 2\n",
    "    return result\n",
    "\n",
    "# パラメータ設定\n",
    "y = 0  # 任意の値\n",
    "n = 100  # 任意の値\n",
    "omega_1 = 0.6  # 任意の値\n",
    "omega_2 = 0.3 # 任意の値\n",
    "theta = np.pi/3  # 任意の値\n",
    "#theta = 0  # 任意の値\n",
    "\n",
    "\n",
    "# P_t_theta関数からデータを生成\n",
    "data = P_t_theta(y, n, omega_1, omega_2, theta)\n",
    "\n",
    "# データをプロット\n",
    "plt.imshow(data, cmap='viridis', extent=[0, t_range, 0, x_range])\n",
    "plt.colorbar()  # カラーバーを表示\n",
    "plt.xlabel('i1 (横軸)')\n",
    "plt.ylabel('j (縦軸)')\n",
    "plt.title('P_t_thetaの値による色の明るさの変化')\n",
    "plt.show()\n"
   ]
  },
  {
   "cell_type": "code",
   "execution_count": 2,
   "id": "7cd5928b-83c7-42b5-bc00-b934e45dea5f",
   "metadata": {},
   "outputs": [
    {
     "name": "stdout",
     "output_type": "stream",
     "text": [
      "(51, 20)\n"
     ]
    }
   ],
   "source": [
    "print(data.shape)"
   ]
  },
  {
   "cell_type": "code",
   "execution_count": 3,
   "id": "54620381-c170-4536-9ef0-bc6aa2144337",
   "metadata": {},
   "outputs": [
    {
     "name": "stdout",
     "output_type": "stream",
     "text": [
      "[[0.00000000e+00 3.69946600e-38 8.74433385e-30 ... 3.68034132e-04\n",
      "  1.10850336e-03 2.85252424e-03]\n",
      " [0.00000000e+00 2.83338469e-36 3.18186191e-28 ... 9.21999454e-04\n",
      "  2.48431430e-03 5.69762213e-03]\n",
      " [0.00000000e+00 2.06618401e-34 1.11153777e-26 ... 2.14052549e-03\n",
      "  5.12499725e-03 1.03833265e-02]\n",
      " ...\n",
      " [0.00000000e+00 5.45027169e-36 9.42573576e-29 ... 2.16555558e-06\n",
      "  7.30762745e-06 2.27102121e-05]\n",
      " [0.00000000e+00 1.11107286e-37 2.95236398e-30 ... 6.07565651e-07\n",
      "  2.14913576e-06 6.82431534e-06]\n",
      " [0.00000000e+00 7.52261918e-40 6.47355770e-32 ... 1.45834910e-07\n",
      "  5.77205176e-07 2.05621503e-06]]\n"
     ]
    }
   ],
   "source": [
    "print(data)"
   ]
  },
  {
   "cell_type": "code",
   "execution_count": 5,
   "id": "832bdb9f-802c-45c9-ae62-2efbe4c46288",
   "metadata": {},
   "outputs": [
    {
     "name": "stdout",
     "output_type": "stream",
     "text": [
      "20\n"
     ]
    }
   ],
   "source": [
    "print(data.shape[1])"
   ]
  },
  {
   "cell_type": "code",
   "execution_count": null,
   "id": "14a212f8-1e33-4ece-a958-756bcd45b4c6",
   "metadata": {},
   "outputs": [],
   "source": []
  }
 ],
 "metadata": {
  "kernelspec": {
   "display_name": "Python 3 (ipykernel)",
   "language": "python",
   "name": "python3"
  },
  "language_info": {
   "codemirror_mode": {
    "name": "ipython",
    "version": 3
   },
   "file_extension": ".py",
   "mimetype": "text/x-python",
   "name": "python",
   "nbconvert_exporter": "python",
   "pygments_lexer": "ipython3",
   "version": "3.8.2"
  }
 },
 "nbformat": 4,
 "nbformat_minor": 5
}
